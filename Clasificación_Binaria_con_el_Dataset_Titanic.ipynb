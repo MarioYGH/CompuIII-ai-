{
  "nbformat": 4,
  "nbformat_minor": 0,
  "metadata": {
    "colab": {
      "provenance": []
    },
    "kernelspec": {
      "name": "python3",
      "display_name": "Python 3"
    },
    "language_info": {
      "name": "python"
    }
  },
  "cells": [
    {
      "cell_type": "markdown",
      "source": [
        "# Clasificación Binaria con el Dataset Titanic\n",
        "\n",
        "Mario Yahir García Hernández\n",
        "\n",
        "Oscar Correa Saenz\n",
        "\n",
        "Ricardo Aguilar Pérez"
      ],
      "metadata": {
        "id": "GheFDdnLmvfO"
      }
    },
    {
      "cell_type": "markdown",
      "source": [
        "# Librerías:\n"
      ],
      "metadata": {
        "id": "fbwY7ElooStK"
      }
    },
    {
      "cell_type": "code",
      "execution_count": null,
      "metadata": {
        "id": "cLjvB2xL2n5S"
      },
      "outputs": [],
      "source": [
        "# Importar las librerías necesarias para el análisis y modelado\n",
        "\n",
        "# Seaborn: Librería para la visualización de datos estadísticos. Aquí se usa para cargar un dataset de ejemplo (Titanic).\n",
        "import seaborn as sns\n",
        "\n",
        "# Pandas: Librería esencial para la manipulación y análisis de datos. Nos permite cargar, procesar y analizar datos en formato tabular (DataFrames).\n",
        "import pandas as pd\n",
        "\n",
        "# Numpy: Biblioteca para realizar cálculos numéricos eficientes con arreglos y matrices multidimensionales. Ayuda con operaciones matemáticas de los datos.\n",
        "import numpy as np\n",
        "\n",
        "# Scikit-learn: Librería de machine learning. Aquí se usa para dividir los datos en entrenamiento y prueba, escalar los datos, codificar etiquetas y medir el rendimiento del modelo.\n",
        "from sklearn.model_selection import train_test_split\n",
        "from sklearn.preprocessing import StandardScaler, LabelEncoder\n",
        "from sklearn.metrics import accuracy_score, roc_curve, auc\n",
        "\n",
        "# Matplotlib: Librería de visualización para gráficos en 2D. Se usa para graficar la curva ROC.\n",
        "import matplotlib.pyplot as plt\n",
        "\n",
        "# TensorFlow y Keras: Librería de deep learning que se usa para crear y entrenar redes neuronales. Keras es la API de alto nivel de TensorFlow.\n",
        "import tensorflow as tf\n",
        "from tensorflow.keras.models import Sequential\n",
        "from tensorflow.keras.layers import Dense\n",
        "from tensorflow.keras.optimizers import Adam\n",
        "\n",
        "\n",
        "# Cargar el dataset Titanic\n",
        "titanic = sns.load_dataset('titanic')\n",
        "\n",
        "\n"
      ]
    },
    {
      "cell_type": "markdown",
      "source": [
        "# Preprocesamiento de datos:\n"
      ],
      "metadata": {
        "id": "gzE-0N9UoWLS"
      }
    },
    {
      "cell_type": "code",
      "source": [
        "# Eliminar columnas irrelevantes y con muchos valores nulos\n",
        "titanic = titanic.drop(columns=['deck', 'embark_town', 'alive'])\n",
        "\n",
        "# Eliminar filas con valores nulos\n",
        "titanic = titanic.dropna()\n",
        "\n",
        "# Convertir variables categóricas a numéricas\n",
        "le = LabelEncoder()\n",
        "titanic['sex'] = le.fit_transform(titanic['sex'])\n",
        "titanic['embarked'] = le.fit_transform(titanic['embarked'])\n",
        "titanic['class'] = le.fit_transform(titanic['class'])\n",
        "titanic['who'] = le.fit_transform(titanic['who'])\n",
        "titanic['adult_male'] = le.fit_transform(titanic['adult_male'])\n",
        "titanic['alone'] = le.fit_transform(titanic['alone'])\n",
        "\n",
        "# Separar características (X) y el objetivo (y)\n",
        "X = titanic.drop(columns=['survived'])\n",
        "y = titanic['survived']\n",
        "\n",
        "# Dividir los datos en conjuntos de entrenamiento y prueba\n",
        "X_train, X_test, y_train, y_test = train_test_split(X, y, test_size=0.2, random_state=42)\n",
        "\n",
        "# Escalar las características\n",
        "scaler = StandardScaler() #  Ajusta los datos para que todas las características tengan una media de 0 y una desviación estándar de 1.\n",
        "X_train = scaler.fit_transform(X_train)\n",
        "X_test = scaler.transform(X_test)\n"
      ],
      "metadata": {
        "colab": {
          "base_uri": "https://localhost:8080/"
        },
        "id": "CnIW4Foc3bKB",
        "outputId": "f662e0ce-9d21-4c1d-d4fd-ffe233a274c8"
      },
      "execution_count": null,
      "outputs": [
        {
          "output_type": "stream",
          "name": "stderr",
          "text": [
            "<ipython-input-9-e838fa7595fa>:9: SettingWithCopyWarning: \n",
            "A value is trying to be set on a copy of a slice from a DataFrame.\n",
            "Try using .loc[row_indexer,col_indexer] = value instead\n",
            "\n",
            "See the caveats in the documentation: https://pandas.pydata.org/pandas-docs/stable/user_guide/indexing.html#returning-a-view-versus-a-copy\n",
            "  titanic['sex'] = le.fit_transform(titanic['sex'])\n",
            "<ipython-input-9-e838fa7595fa>:10: SettingWithCopyWarning: \n",
            "A value is trying to be set on a copy of a slice from a DataFrame.\n",
            "Try using .loc[row_indexer,col_indexer] = value instead\n",
            "\n",
            "See the caveats in the documentation: https://pandas.pydata.org/pandas-docs/stable/user_guide/indexing.html#returning-a-view-versus-a-copy\n",
            "  titanic['embarked'] = le.fit_transform(titanic['embarked'])\n",
            "<ipython-input-9-e838fa7595fa>:11: SettingWithCopyWarning: \n",
            "A value is trying to be set on a copy of a slice from a DataFrame.\n",
            "Try using .loc[row_indexer,col_indexer] = value instead\n",
            "\n",
            "See the caveats in the documentation: https://pandas.pydata.org/pandas-docs/stable/user_guide/indexing.html#returning-a-view-versus-a-copy\n",
            "  titanic['class'] = le.fit_transform(titanic['class'])\n",
            "<ipython-input-9-e838fa7595fa>:12: SettingWithCopyWarning: \n",
            "A value is trying to be set on a copy of a slice from a DataFrame.\n",
            "Try using .loc[row_indexer,col_indexer] = value instead\n",
            "\n",
            "See the caveats in the documentation: https://pandas.pydata.org/pandas-docs/stable/user_guide/indexing.html#returning-a-view-versus-a-copy\n",
            "  titanic['who'] = le.fit_transform(titanic['who'])\n",
            "<ipython-input-9-e838fa7595fa>:13: SettingWithCopyWarning: \n",
            "A value is trying to be set on a copy of a slice from a DataFrame.\n",
            "Try using .loc[row_indexer,col_indexer] = value instead\n",
            "\n",
            "See the caveats in the documentation: https://pandas.pydata.org/pandas-docs/stable/user_guide/indexing.html#returning-a-view-versus-a-copy\n",
            "  titanic['adult_male'] = le.fit_transform(titanic['adult_male'])\n",
            "<ipython-input-9-e838fa7595fa>:14: SettingWithCopyWarning: \n",
            "A value is trying to be set on a copy of a slice from a DataFrame.\n",
            "Try using .loc[row_indexer,col_indexer] = value instead\n",
            "\n",
            "See the caveats in the documentation: https://pandas.pydata.org/pandas-docs/stable/user_guide/indexing.html#returning-a-view-versus-a-copy\n",
            "  titanic['alone'] = le.fit_transform(titanic['alone'])\n"
          ]
        }
      ]
    },
    {
      "cell_type": "markdown",
      "source": [
        "# Diseño y Entranamiento del modelo:\n"
      ],
      "metadata": {
        "id": "SNd8XHF0of0J"
      }
    },
    {
      "cell_type": "code",
      "source": [
        "# Crear el modelo de red neuronal\n",
        "model = Sequential([\n",
        "    Dense(32, activation='relu', input_shape=(X_train.shape[1],)), # (Rectified Linear Unit) es una función de activación común en redes neuronales que activa la neurona si el valor de entrada es positivo, y la \"apaga\" si es negativo (devuelve 0).\n",
        "    Dense(1, activation='sigmoid') # Si el valor está cerca de 1, el modelo predice \"positivo\"; si está cerca de 0, predice \"negativo\".\n",
        "])\n",
        "\n",
        "# Compilar el modelo\n",
        "model.compile(optimizer=Adam(), loss='binary_crossentropy', metrics=['accuracy'])\n",
        "\n",
        "# Entrenar el modelo\n",
        "history = model.fit(X_train, y_train, epochs=50, batch_size=32, validation_split=0.2)\n"
      ],
      "metadata": {
        "colab": {
          "base_uri": "https://localhost:8080/"
        },
        "id": "vtv8MUVV3k4q",
        "outputId": "87241caa-0f55-42d0-d809-d949f2ffdc7b"
      },
      "execution_count": null,
      "outputs": [
        {
          "output_type": "stream",
          "name": "stdout",
          "text": [
            "Epoch 1/50\n"
          ]
        },
        {
          "output_type": "stream",
          "name": "stderr",
          "text": [
            "/usr/local/lib/python3.10/dist-packages/keras/src/layers/core/dense.py:87: UserWarning: Do not pass an `input_shape`/`input_dim` argument to a layer. When using Sequential models, prefer using an `Input(shape)` object as the first layer in the model instead.\n",
            "  super().__init__(activity_regularizer=activity_regularizer, **kwargs)\n"
          ]
        },
        {
          "output_type": "stream",
          "name": "stdout",
          "text": [
            "\u001b[1m15/15\u001b[0m \u001b[32m━━━━━━━━━━━━━━━━━━━━\u001b[0m\u001b[37m\u001b[0m \u001b[1m2s\u001b[0m 16ms/step - accuracy: 0.4602 - loss: 0.7544 - val_accuracy: 0.4649 - val_loss: 0.6898\n",
            "Epoch 2/50\n",
            "\u001b[1m15/15\u001b[0m \u001b[32m━━━━━━━━━━━━━━━━━━━━\u001b[0m\u001b[37m\u001b[0m \u001b[1m0s\u001b[0m 4ms/step - accuracy: 0.5574 - loss: 0.6784 - val_accuracy: 0.7368 - val_loss: 0.6190\n",
            "Epoch 3/50\n",
            "\u001b[1m15/15\u001b[0m \u001b[32m━━━━━━━━━━━━━━━━━━━━\u001b[0m\u001b[37m\u001b[0m \u001b[1m0s\u001b[0m 6ms/step - accuracy: 0.7093 - loss: 0.6148 - val_accuracy: 0.7807 - val_loss: 0.5702\n",
            "Epoch 4/50\n",
            "\u001b[1m15/15\u001b[0m \u001b[32m━━━━━━━━━━━━━━━━━━━━\u001b[0m\u001b[37m\u001b[0m \u001b[1m0s\u001b[0m 4ms/step - accuracy: 0.7726 - loss: 0.5577 - val_accuracy: 0.7982 - val_loss: 0.5351\n",
            "Epoch 5/50\n",
            "\u001b[1m15/15\u001b[0m \u001b[32m━━━━━━━━━━━━━━━━━━━━\u001b[0m\u001b[37m\u001b[0m \u001b[1m0s\u001b[0m 4ms/step - accuracy: 0.8190 - loss: 0.5100 - val_accuracy: 0.7895 - val_loss: 0.5116\n",
            "Epoch 6/50\n",
            "\u001b[1m15/15\u001b[0m \u001b[32m━━━━━━━━━━━━━━━━━━━━\u001b[0m\u001b[37m\u001b[0m \u001b[1m0s\u001b[0m 4ms/step - accuracy: 0.7802 - loss: 0.5244 - val_accuracy: 0.7895 - val_loss: 0.4949\n",
            "Epoch 7/50\n",
            "\u001b[1m15/15\u001b[0m \u001b[32m━━━━━━━━━━━━━━━━━━━━\u001b[0m\u001b[37m\u001b[0m \u001b[1m0s\u001b[0m 5ms/step - accuracy: 0.8186 - loss: 0.4647 - val_accuracy: 0.7807 - val_loss: 0.4810\n",
            "Epoch 8/50\n",
            "\u001b[1m15/15\u001b[0m \u001b[32m━━━━━━━━━━━━━━━━━━━━\u001b[0m\u001b[37m\u001b[0m \u001b[1m0s\u001b[0m 4ms/step - accuracy: 0.8104 - loss: 0.4610 - val_accuracy: 0.7807 - val_loss: 0.4730\n",
            "Epoch 9/50\n",
            "\u001b[1m15/15\u001b[0m \u001b[32m━━━━━━━━━━━━━━━━━━━━\u001b[0m\u001b[37m\u001b[0m \u001b[1m0s\u001b[0m 5ms/step - accuracy: 0.7870 - loss: 0.4756 - val_accuracy: 0.7807 - val_loss: 0.4644\n",
            "Epoch 10/50\n",
            "\u001b[1m15/15\u001b[0m \u001b[32m━━━━━━━━━━━━━━━━━━━━\u001b[0m\u001b[37m\u001b[0m \u001b[1m0s\u001b[0m 5ms/step - accuracy: 0.8209 - loss: 0.4252 - val_accuracy: 0.7807 - val_loss: 0.4581\n",
            "Epoch 11/50\n",
            "\u001b[1m15/15\u001b[0m \u001b[32m━━━━━━━━━━━━━━━━━━━━\u001b[0m\u001b[37m\u001b[0m \u001b[1m0s\u001b[0m 4ms/step - accuracy: 0.8261 - loss: 0.4326 - val_accuracy: 0.7895 - val_loss: 0.4515\n",
            "Epoch 12/50\n",
            "\u001b[1m15/15\u001b[0m \u001b[32m━━━━━━━━━━━━━━━━━━━━\u001b[0m\u001b[37m\u001b[0m \u001b[1m0s\u001b[0m 6ms/step - accuracy: 0.8198 - loss: 0.4303 - val_accuracy: 0.8070 - val_loss: 0.4462\n",
            "Epoch 13/50\n",
            "\u001b[1m15/15\u001b[0m \u001b[32m━━━━━━━━━━━━━━━━━━━━\u001b[0m\u001b[37m\u001b[0m \u001b[1m0s\u001b[0m 5ms/step - accuracy: 0.8122 - loss: 0.4271 - val_accuracy: 0.8070 - val_loss: 0.4426\n",
            "Epoch 14/50\n",
            "\u001b[1m15/15\u001b[0m \u001b[32m━━━━━━━━━━━━━━━━━━━━\u001b[0m\u001b[37m\u001b[0m \u001b[1m0s\u001b[0m 5ms/step - accuracy: 0.8205 - loss: 0.4074 - val_accuracy: 0.8070 - val_loss: 0.4405\n",
            "Epoch 15/50\n",
            "\u001b[1m15/15\u001b[0m \u001b[32m━━━━━━━━━━━━━━━━━━━━\u001b[0m\u001b[37m\u001b[0m \u001b[1m0s\u001b[0m 4ms/step - accuracy: 0.8260 - loss: 0.4037 - val_accuracy: 0.8070 - val_loss: 0.4388\n",
            "Epoch 16/50\n",
            "\u001b[1m15/15\u001b[0m \u001b[32m━━━━━━━━━━━━━━━━━━━━\u001b[0m\u001b[37m\u001b[0m \u001b[1m0s\u001b[0m 4ms/step - accuracy: 0.8166 - loss: 0.4082 - val_accuracy: 0.8070 - val_loss: 0.4358\n",
            "Epoch 17/50\n",
            "\u001b[1m15/15\u001b[0m \u001b[32m━━━━━━━━━━━━━━━━━━━━\u001b[0m\u001b[37m\u001b[0m \u001b[1m0s\u001b[0m 5ms/step - accuracy: 0.8303 - loss: 0.4037 - val_accuracy: 0.7982 - val_loss: 0.4339\n",
            "Epoch 18/50\n",
            "\u001b[1m15/15\u001b[0m \u001b[32m━━━━━━━━━━━━━━━━━━━━\u001b[0m\u001b[37m\u001b[0m \u001b[1m0s\u001b[0m 5ms/step - accuracy: 0.8256 - loss: 0.4161 - val_accuracy: 0.7982 - val_loss: 0.4308\n",
            "Epoch 19/50\n",
            "\u001b[1m15/15\u001b[0m \u001b[32m━━━━━━━━━━━━━━━━━━━━\u001b[0m\u001b[37m\u001b[0m \u001b[1m0s\u001b[0m 6ms/step - accuracy: 0.8223 - loss: 0.4214 - val_accuracy: 0.7982 - val_loss: 0.4310\n",
            "Epoch 20/50\n",
            "\u001b[1m15/15\u001b[0m \u001b[32m━━━━━━━━━━━━━━━━━━━━\u001b[0m\u001b[37m\u001b[0m \u001b[1m0s\u001b[0m 4ms/step - accuracy: 0.8487 - loss: 0.3706 - val_accuracy: 0.8070 - val_loss: 0.4319\n",
            "Epoch 21/50\n",
            "\u001b[1m15/15\u001b[0m \u001b[32m━━━━━━━━━━━━━━━━━━━━\u001b[0m\u001b[37m\u001b[0m \u001b[1m0s\u001b[0m 5ms/step - accuracy: 0.8216 - loss: 0.4208 - val_accuracy: 0.8070 - val_loss: 0.4319\n",
            "Epoch 22/50\n",
            "\u001b[1m15/15\u001b[0m \u001b[32m━━━━━━━━━━━━━━━━━━━━\u001b[0m\u001b[37m\u001b[0m \u001b[1m0s\u001b[0m 4ms/step - accuracy: 0.8274 - loss: 0.3915 - val_accuracy: 0.8070 - val_loss: 0.4294\n",
            "Epoch 23/50\n",
            "\u001b[1m15/15\u001b[0m \u001b[32m━━━━━━━━━━━━━━━━━━━━\u001b[0m\u001b[37m\u001b[0m \u001b[1m0s\u001b[0m 5ms/step - accuracy: 0.8268 - loss: 0.3855 - val_accuracy: 0.8070 - val_loss: 0.4261\n",
            "Epoch 24/50\n",
            "\u001b[1m15/15\u001b[0m \u001b[32m━━━━━━━━━━━━━━━━━━━━\u001b[0m\u001b[37m\u001b[0m \u001b[1m0s\u001b[0m 5ms/step - accuracy: 0.8293 - loss: 0.4103 - val_accuracy: 0.8070 - val_loss: 0.4262\n",
            "Epoch 25/50\n",
            "\u001b[1m15/15\u001b[0m \u001b[32m━━━━━━━━━━━━━━━━━━━━\u001b[0m\u001b[37m\u001b[0m \u001b[1m0s\u001b[0m 5ms/step - accuracy: 0.8385 - loss: 0.3639 - val_accuracy: 0.8070 - val_loss: 0.4238\n",
            "Epoch 26/50\n",
            "\u001b[1m15/15\u001b[0m \u001b[32m━━━━━━━━━━━━━━━━━━━━\u001b[0m\u001b[37m\u001b[0m \u001b[1m0s\u001b[0m 8ms/step - accuracy: 0.8482 - loss: 0.3613 - val_accuracy: 0.8158 - val_loss: 0.4262\n",
            "Epoch 27/50\n",
            "\u001b[1m15/15\u001b[0m \u001b[32m━━━━━━━━━━━━━━━━━━━━\u001b[0m\u001b[37m\u001b[0m \u001b[1m0s\u001b[0m 6ms/step - accuracy: 0.8545 - loss: 0.3714 - val_accuracy: 0.8158 - val_loss: 0.4298\n",
            "Epoch 28/50\n",
            "\u001b[1m15/15\u001b[0m \u001b[32m━━━━━━━━━━━━━━━━━━━━\u001b[0m\u001b[37m\u001b[0m \u001b[1m0s\u001b[0m 6ms/step - accuracy: 0.8350 - loss: 0.3992 - val_accuracy: 0.7982 - val_loss: 0.4308\n",
            "Epoch 29/50\n",
            "\u001b[1m15/15\u001b[0m \u001b[32m━━━━━━━━━━━━━━━━━━━━\u001b[0m\u001b[37m\u001b[0m \u001b[1m0s\u001b[0m 6ms/step - accuracy: 0.8523 - loss: 0.3661 - val_accuracy: 0.7982 - val_loss: 0.4287\n",
            "Epoch 30/50\n",
            "\u001b[1m15/15\u001b[0m \u001b[32m━━━━━━━━━━━━━━━━━━━━\u001b[0m\u001b[37m\u001b[0m \u001b[1m0s\u001b[0m 5ms/step - accuracy: 0.8275 - loss: 0.4005 - val_accuracy: 0.7982 - val_loss: 0.4284\n",
            "Epoch 31/50\n",
            "\u001b[1m15/15\u001b[0m \u001b[32m━━━━━━━━━━━━━━━━━━━━\u001b[0m\u001b[37m\u001b[0m \u001b[1m0s\u001b[0m 7ms/step - accuracy: 0.8543 - loss: 0.3585 - val_accuracy: 0.8158 - val_loss: 0.4261\n",
            "Epoch 32/50\n",
            "\u001b[1m15/15\u001b[0m \u001b[32m━━━━━━━━━━━━━━━━━━━━\u001b[0m\u001b[37m\u001b[0m \u001b[1m0s\u001b[0m 7ms/step - accuracy: 0.8524 - loss: 0.3689 - val_accuracy: 0.8158 - val_loss: 0.4253\n",
            "Epoch 33/50\n",
            "\u001b[1m15/15\u001b[0m \u001b[32m━━━━━━━━━━━━━━━━━━━━\u001b[0m\u001b[37m\u001b[0m \u001b[1m0s\u001b[0m 6ms/step - accuracy: 0.8433 - loss: 0.3552 - val_accuracy: 0.8070 - val_loss: 0.4227\n",
            "Epoch 34/50\n",
            "\u001b[1m15/15\u001b[0m \u001b[32m━━━━━━━━━━━━━━━━━━━━\u001b[0m\u001b[37m\u001b[0m \u001b[1m0s\u001b[0m 5ms/step - accuracy: 0.8384 - loss: 0.3847 - val_accuracy: 0.7982 - val_loss: 0.4269\n",
            "Epoch 35/50\n",
            "\u001b[1m15/15\u001b[0m \u001b[32m━━━━━━━━━━━━━━━━━━━━\u001b[0m\u001b[37m\u001b[0m \u001b[1m0s\u001b[0m 7ms/step - accuracy: 0.8460 - loss: 0.3801 - val_accuracy: 0.7895 - val_loss: 0.4277\n",
            "Epoch 36/50\n",
            "\u001b[1m15/15\u001b[0m \u001b[32m━━━━━━━━━━━━━━━━━━━━\u001b[0m\u001b[37m\u001b[0m \u001b[1m0s\u001b[0m 8ms/step - accuracy: 0.8331 - loss: 0.4094 - val_accuracy: 0.7982 - val_loss: 0.4284\n",
            "Epoch 37/50\n",
            "\u001b[1m15/15\u001b[0m \u001b[32m━━━━━━━━━━━━━━━━━━━━\u001b[0m\u001b[37m\u001b[0m \u001b[1m0s\u001b[0m 7ms/step - accuracy: 0.8465 - loss: 0.3772 - val_accuracy: 0.7895 - val_loss: 0.4287\n",
            "Epoch 38/50\n",
            "\u001b[1m15/15\u001b[0m \u001b[32m━━━━━━━━━━━━━━━━━━━━\u001b[0m\u001b[37m\u001b[0m \u001b[1m0s\u001b[0m 7ms/step - accuracy: 0.8502 - loss: 0.3558 - val_accuracy: 0.7982 - val_loss: 0.4271\n",
            "Epoch 39/50\n",
            "\u001b[1m15/15\u001b[0m \u001b[32m━━━━━━━━━━━━━━━━━━━━\u001b[0m\u001b[37m\u001b[0m \u001b[1m0s\u001b[0m 8ms/step - accuracy: 0.8212 - loss: 0.4234 - val_accuracy: 0.8070 - val_loss: 0.4258\n",
            "Epoch 40/50\n",
            "\u001b[1m15/15\u001b[0m \u001b[32m━━━━━━━━━━━━━━━━━━━━\u001b[0m\u001b[37m\u001b[0m \u001b[1m0s\u001b[0m 8ms/step - accuracy: 0.8529 - loss: 0.3502 - val_accuracy: 0.8070 - val_loss: 0.4250\n",
            "Epoch 41/50\n",
            "\u001b[1m15/15\u001b[0m \u001b[32m━━━━━━━━━━━━━━━━━━━━\u001b[0m\u001b[37m\u001b[0m \u001b[1m0s\u001b[0m 4ms/step - accuracy: 0.8328 - loss: 0.3977 - val_accuracy: 0.7982 - val_loss: 0.4244\n",
            "Epoch 42/50\n",
            "\u001b[1m15/15\u001b[0m \u001b[32m━━━━━━━━━━━━━━━━━━━━\u001b[0m\u001b[37m\u001b[0m \u001b[1m0s\u001b[0m 4ms/step - accuracy: 0.8326 - loss: 0.3799 - val_accuracy: 0.7982 - val_loss: 0.4254\n",
            "Epoch 43/50\n",
            "\u001b[1m15/15\u001b[0m \u001b[32m━━━━━━━━━━━━━━━━━━━━\u001b[0m\u001b[37m\u001b[0m \u001b[1m0s\u001b[0m 5ms/step - accuracy: 0.8190 - loss: 0.4082 - val_accuracy: 0.7895 - val_loss: 0.4239\n",
            "Epoch 44/50\n",
            "\u001b[1m15/15\u001b[0m \u001b[32m━━━━━━━━━━━━━━━━━━━━\u001b[0m\u001b[37m\u001b[0m \u001b[1m0s\u001b[0m 5ms/step - accuracy: 0.8574 - loss: 0.3638 - val_accuracy: 0.7982 - val_loss: 0.4261\n",
            "Epoch 45/50\n",
            "\u001b[1m15/15\u001b[0m \u001b[32m━━━━━━━━━━━━━━━━━━━━\u001b[0m\u001b[37m\u001b[0m \u001b[1m0s\u001b[0m 5ms/step - accuracy: 0.8676 - loss: 0.3600 - val_accuracy: 0.7982 - val_loss: 0.4250\n",
            "Epoch 46/50\n",
            "\u001b[1m15/15\u001b[0m \u001b[32m━━━━━━━━━━━━━━━━━━━━\u001b[0m\u001b[37m\u001b[0m \u001b[1m0s\u001b[0m 4ms/step - accuracy: 0.8528 - loss: 0.3541 - val_accuracy: 0.7982 - val_loss: 0.4254\n",
            "Epoch 47/50\n",
            "\u001b[1m15/15\u001b[0m \u001b[32m━━━━━━━━━━━━━━━━━━━━\u001b[0m\u001b[37m\u001b[0m \u001b[1m0s\u001b[0m 5ms/step - accuracy: 0.8413 - loss: 0.3782 - val_accuracy: 0.7982 - val_loss: 0.4258\n",
            "Epoch 48/50\n",
            "\u001b[1m15/15\u001b[0m \u001b[32m━━━━━━━━━━━━━━━━━━━━\u001b[0m\u001b[37m\u001b[0m \u001b[1m0s\u001b[0m 4ms/step - accuracy: 0.8706 - loss: 0.3615 - val_accuracy: 0.7982 - val_loss: 0.4252\n",
            "Epoch 49/50\n",
            "\u001b[1m15/15\u001b[0m \u001b[32m━━━━━━━━━━━━━━━━━━━━\u001b[0m\u001b[37m\u001b[0m \u001b[1m0s\u001b[0m 4ms/step - accuracy: 0.8599 - loss: 0.3665 - val_accuracy: 0.7982 - val_loss: 0.4265\n",
            "Epoch 50/50\n",
            "\u001b[1m15/15\u001b[0m \u001b[32m━━━━━━━━━━━━━━━━━━━━\u001b[0m\u001b[37m\u001b[0m \u001b[1m0s\u001b[0m 5ms/step - accuracy: 0.8566 - loss: 0.3607 - val_accuracy: 0.7895 - val_loss: 0.4295\n"
          ]
        }
      ]
    },
    {
      "cell_type": "markdown",
      "source": [
        "# Evaluación del modelo:\n"
      ],
      "metadata": {
        "id": "oNrb9LenoxLJ"
      }
    },
    {
      "cell_type": "code",
      "source": [
        "# Evaluar el modelo en los datos de prueba\n",
        "y_pred = model.predict(X_test)\n",
        "y_pred_binary = np.round(y_pred)\n",
        "\n",
        "accuracy = accuracy_score(y_test, y_pred_binary)\n",
        "print(f'Accuracy: {accuracy * 100:.2f}%')\n",
        "\n",
        "# Calcular la curva ROC\n",
        "fpr, tpr, thresholds = roc_curve(y_test, y_pred)\n",
        "roc_auc = auc(fpr, tpr)\n",
        "\n",
        "# Mostrar la curva ROC\n",
        "plt.figure()\n",
        "plt.plot(fpr, tpr, color='blue', lw=2, label=f'ROC curve (area = {roc_auc:.2f})')\n",
        "plt.plot([0, 1], [0, 1], color='gray', linestyle='--')\n",
        "plt.xlim([0.0, 1.0])\n",
        "plt.ylim([0.0, 1.05])\n",
        "plt.xlabel('False Positive Rate')\n",
        "plt.ylabel('True Positive Rate')\n",
        "plt.title('Receiver Operating Characteristic (ROC)')\n",
        "plt.legend(loc=\"lower right\")\n",
        "plt.show()\n"
      ],
      "metadata": {
        "colab": {
          "base_uri": "https://localhost:8080/",
          "height": 508
        },
        "id": "YRI8DwAm3uOu",
        "outputId": "6fac96f3-3b96-4908-9475-f5f036af3a3b"
      },
      "execution_count": null,
      "outputs": [
        {
          "output_type": "stream",
          "name": "stdout",
          "text": [
            "\u001b[1m5/5\u001b[0m \u001b[32m━━━━━━━━━━━━━━━━━━━━\u001b[0m\u001b[37m\u001b[0m \u001b[1m0s\u001b[0m 8ms/step \n",
            "Accuracy: 82.52%\n"
          ]
        },
        {
          "output_type": "display_data",
          "data": {
            "text/plain": [
              "<Figure size 640x480 with 1 Axes>"
            ],
            "image/png": "[encoded data removed]"
          },
          "metadata": {}
        }
      ]
    },
    {
      "cell_type": "markdown",
      "source": [
        "A medida que avanza hacia la derecha, la curva se va acercando a la diagonal, lo cual es normal cuando aumentas el umbral de decisión, y el modelo empieza a hacer más falsos positivos.\n",
        "\n",
        "Un AUC de 0.83 sugiere que el modelo tiene un rendimiento razonablemente bueno para predecir correctamente la clase de los datos. Esto significa que, en general, el modelo hace un buen trabajo separando las clases (en este caso, prediciendo quién sobrevive y quién no, si es el ejemplo del Titanic)."
      ],
      "metadata": {
        "id": "JL9eknmcOTkI"
      }
    },
    {
      "cell_type": "markdown",
      "source": [
        "## Conclusión\n",
        "\n",
        "En este proyecto, hemos desarrollado un modelo de red neuronal para resolver un problema de clasificación binaria utilizando un conjunto de datos (el del Titanic) para predecir si una persona sobrevivió o no basado en sus características. A través de este proceso, hemos seguido una serie de pasos clave que aseguran la efectividad y calidad del modelo:\n",
        "\n",
        "###Preprocesamiento de datos:\n",
        "\n",
        "Realizamos un adecuado preprocesamiento, eliminando columnas irrelevantes, gestionando valores nulos y convirtiendo variables categóricas a numéricas. Este paso es crucial para que el modelo entienda los datos y pueda trabajar con ellos de manera eficiente.\n",
        "La estandarización de las características mediante StandardScaler fue esencial para asegurar que todas las variables estuvieran en la misma escala, lo que mejoró significativamente el rendimiento del modelo.\n",
        "\n",
        "###Diseño y compilación del modelo:\n",
        "\n",
        "Implementamos una red neuronal simple pero efectiva, con una capa oculta de 32 neuronas y una capa de salida que utiliza la función de activación sigmoid, ideal para problemas de clasificación binaria.\n",
        "Usamos el optimizador Adam, conocido por su capacidad de converger rápidamente, junto con la función de pérdida binary crossentropy, adecuada para este tipo de problemas.\n",
        "\n",
        "###Entrenamiento y evaluación del modelo:\n",
        "\n",
        "Entrenamos el modelo en 50 epochs, usando un tamaño de batch de 32, lo que permitió un equilibrio entre la rapidez del entrenamiento y la estabilidad de las actualizaciones de pesos.\n",
        "Evaluamos el modelo usando la precisión (accuracy) y la curva ROC para obtener una visión más completa de su rendimiento.\n",
        "El modelo mostró una precisión razonable y un AUC de 0.83, lo que indica un buen rendimiento general. La curva ROC mostró que el modelo tiene una buena capacidad para diferenciar entre los que sobreviven y los que no, con pocas predicciones erróneas.\n",
        "\n",
        "###Curva ROC y AUC:\n",
        "\n",
        "La curva ROC fue una herramienta crucial para evaluar el equilibrio entre verdaderos positivos y falsos positivos a medida que ajustamos los umbrales de decisión. Un AUC de 0.83 sugiere que el modelo es efectivo, pero también hay margen de mejora.\n",
        "\n",
        "###Para mejorar el rendimiento del modelo, algunos enfoques adicionales podrían ser:\n",
        "\n",
        "Experimentar con arquitecturas de red más complejas (añadir más capas o neuronas).\n",
        "Aumentar el número de epochs o ajustar el tamaño del batch para optimizar la convergencia del modelo.\n",
        "Recolección y enriquecimiento de datos: Un mayor volumen de datos o características adicionales podrían mejorar el rendimiento del modelo.\n",
        "Técnicas de regularización como dropout o batch normalization podrían ayudar a evitar el sobreajuste y mejorar la generalización del modelo."
      ],
      "metadata": {
        "id": "IiAN6x0HniYV"
      }
    },
    {
      "cell_type": "code",
      "source": [
        "print(\"Mario Yahir García Hernández\")\n",
        "print(\"Oscar Correa Saenz\")\n",
        "print(\"Ricardo Aguilar Pérez\")"
      ],
      "metadata": {
        "id": "iHXBePVnkZmi"
      },
      "execution_count": null,
      "outputs": []
    }
  ]
}