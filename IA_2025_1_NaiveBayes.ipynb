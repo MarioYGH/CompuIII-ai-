{
  "nbformat": 4,
  "nbformat_minor": 0,
  "metadata": {
    "colab": {
      "private_outputs": true,
      "provenance": []
    },
    "kernelspec": {
      "name": "python3",
      "display_name": "Python 3"
    },
    "language_info": {
      "name": "python"
    }
  },
  "cells": [
    {
      "cell_type": "code",
      "source": [
        "# Naive Bayes y Scikit Learn\n"
      ],
      "metadata": {
        "id": "Ji0FpRNmdieA"
      },
      "execution_count": null,
      "outputs": []
    },
    {
      "cell_type": "markdown",
      "source": [
        "### 1.1 Importar librerías\n",
        "\n"
      ],
      "metadata": {
        "id": "MHT9go8-hub7"
      }
    },
    {
      "cell_type": "code",
      "source": [
        "import numpy as np\n",
        "from sklearn.model_selection import train_test_split\n",
        "from sklearn.feature_extraction.text import CountVectorizer\n",
        "from sklearn.naive_bayes import MultinomialNB\n",
        "from sklearn.metrics import accuracy_score, classification_report"
      ],
      "metadata": {
        "id": "X1fCR3SNhvjQ"
      },
      "execution_count": null,
      "outputs": []
    },
    {
      "cell_type": "markdown",
      "source": [
        "### 1.2 importar datos de ejemplo y separar en conjuntos"
      ],
      "metadata": {
        "id": "cFZrVD8Th7Dx"
      }
    },
    {
      "cell_type": "code",
      "execution_count": null,
      "metadata": {
        "id": "pHdkAbFGbR7q"
      },
      "outputs": [],
      "source": [
        "\n",
        "\n",
        "# Datos de ejemplo: correos electrónicos etiquetados como spam o no spam\n",
        "\n",
        "emails = [\n",
        "    (\"Oferta especial solo hoy\", 1),  # Ejemplo de spam\n",
        "    (\"Confirmación de pedido\", 0),    # Ejemplo de no spam\n",
        "    (\"Gana un premio increíble\", 1),  # Ejemplo de spam\n",
        "    (\"Actualización de cuenta\", 0),    # Ejemplo de no spam\n",
        "    (\"¡Gana un iPhone X GRATIS ahora!\", 1),  # Ejemplo de spam\n",
        "    (\"Descarga nuestro software milagroso para perder peso rápido\", 1),  # Ejemplo de spam\n",
        "    (\"Oferta de préstamo sin verificación de crédito\", 1),  # Ejemplo de spam\n",
        "    (\"Increíble inversión: ¡Dobla tu dinero en una semana!\", 1),  # Ejemplo de spam\n",
        "    (\"¡Felicidades! Eres el ganador de un premio de un millón de dólares\", 1),  # Ejemplo de spam\n",
        "    (\"Aumenta tu rendimiento en la cama con nuestra píldora mágica\", 1),  # Ejemplo de spam\n",
        "    (\"Descubre cómo hacer dinero desde casa sin esfuerzo!\", 1),  # Ejemplo de spam\n",
        "    (\"Haz clic aquí para reclamar tu tarjeta de regalo de $100\", 1),  # Ejemplo de spam\n",
        "    (\"Gane dinero rápido con nuestro sistema de marketing multinivel\", 1),  # Ejemplo de spam\n",
        "    (\"Tu factura ha sido aprobada: Paga ahora para evitar problemas\", 1),  # Ejemplo de spam\n",
        "    (\"Notificación de envío de paquete\", 0),  # Ejemplo de no spam\n",
        "    (\"Recordatorio de reunión de trabajo\", 0),  # Ejemplo de no spam\n",
        "    (\"Oferta especial para clientes leales\", 0),  # Ejemplo de no spam\n",
        "    (\"Actualización de política de privacidad\", 0),  # Ejemplo de no spam\n",
        "    (\"Invitación a la fiesta de empresa\", 0),  # Ejemplo de no spam\n",
        "]\n",
        "\n",
        "# Separar los datos en características (X) y etiquetas (y)\n",
        "X = [email[0] for email in emails]\n",
        "y = [email[1] for email in emails]\n",
        "\n",
        "print(X)\n",
        "print(len(y))\n",
        "\n",
        "# Dividir los datos en conjuntos de entrenamiento y prueba\n",
        "X_train, X_test, y_train, y_test = train_test_split(X, y, test_size=0.2, random_state=42)\n",
        "print(len(y_test))\n",
        "print(X_test)\n",
        "print(y_test)"
      ]
    },
    {
      "cell_type": "markdown",
      "source": [
        "#### 1.3 Preprocesamiento"
      ],
      "metadata": {
        "id": "e2tMZroDikpm"
      }
    },
    {
      "cell_type": "code",
      "source": [
        "# Crear un vectorizador de características\n",
        "vectorizer = CountVectorizer()\n",
        "X_train_vec = vectorizer.fit_transform(X_train)\n",
        "X_test_vec = vectorizer.transform(X_test)\n",
        "\n",
        "print(X_test_vec[0])\n",
        "#print(X_train_vec[0])"
      ],
      "metadata": {
        "id": "hdzVrh9tij8B"
      },
      "execution_count": null,
      "outputs": []
    },
    {
      "cell_type": "markdown",
      "source": [],
      "metadata": {
        "id": "YLTHhg6pdHG6"
      }
    },
    {
      "cell_type": "markdown",
      "source": [
        "#### 1.4 Crear modelo y realizar entrenamiento"
      ],
      "metadata": {
        "id": "_iVYDrOSit-h"
      }
    },
    {
      "cell_type": "code",
      "source": [
        "# Crear y entrenar el clasificador Naive Bayes\n",
        "classifier = MultinomialNB()\n",
        "classifier.fit(X_train_vec, y_train)\n",
        "\n",
        "# Realizar predicciones en el conjunto de prueba\n",
        "y_pred = classifier.predict(X_test_vec)\n",
        "\n"
      ],
      "metadata": {
        "id": "0IFl5zjMirOt"
      },
      "execution_count": null,
      "outputs": []
    },
    {
      "cell_type": "markdown",
      "source": [
        "1.5 Evaluar el rendimiento del modelo"
      ],
      "metadata": {
        "id": "OfC0ienzizjl"
      }
    },
    {
      "cell_type": "code",
      "source": [
        "# Calcular la precisión y mostrar el informe de clasificación\n",
        "accuracy = accuracy_score(y_test, y_pred)\n",
        "print(\"Accuracy: \", accuracy)\n",
        "report = classification_report(y_test, y_pred, target_names=[\"No Spam\", \"Spam\"])\n",
        "\n",
        "print(\"Precisión:\", accuracy)\n",
        "print(\"Informe de clasificación:\\n\", report)"
      ],
      "metadata": {
        "id": "rc5fyc6_i3ui"
      },
      "execution_count": null,
      "outputs": []
    }
  ]
}